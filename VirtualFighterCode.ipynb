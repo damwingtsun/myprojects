{
 "cells": [
  {
   "cell_type": "code",
   "execution_count": 6,
   "metadata": {},
   "outputs": [
    {
     "ename": "NameError",
     "evalue": "name 'random' is not defined",
     "output_type": "error",
     "traceback": [
      "\u001b[0;31m---------------------------------------------------------------------------\u001b[0m",
      "\u001b[0;31mNameError\u001b[0m                                 Traceback (most recent call last)",
      "\u001b[0;32m<ipython-input-6-7f51247e2e6a>\u001b[0m in \u001b[0;36m<module>\u001b[0;34m()\u001b[0m\n\u001b[1;32m      1\u001b[0m \u001b[0;32mfor\u001b[0m \u001b[0mnum\u001b[0m \u001b[0;32min\u001b[0m \u001b[0mrange\u001b[0m \u001b[0;34m(\u001b[0m\u001b[0;36m10\u001b[0m\u001b[0;34m)\u001b[0m\u001b[0;34m:\u001b[0m\u001b[0;34m\u001b[0m\u001b[0m\n\u001b[1;32m      2\u001b[0m     \u001b[0mstrikes_head\u001b[0m \u001b[0;34m=\u001b[0m \u001b[0;34m[\u001b[0m\u001b[0;34m'leftFist'\u001b[0m\u001b[0;34m,\u001b[0m\u001b[0;34m'rightFist'\u001b[0m\u001b[0;34m]\u001b[0m\u001b[0;34m\u001b[0m\u001b[0m\n\u001b[0;32m----> 3\u001b[0;31m     \u001b[0mvalue\u001b[0m \u001b[0;34m=\u001b[0m \u001b[0mrandom\u001b[0m\u001b[0;34m.\u001b[0m\u001b[0mchoice\u001b[0m\u001b[0;34m(\u001b[0m\u001b[0mstrikes_head\u001b[0m\u001b[0;34m)\u001b[0m\u001b[0;34m\u001b[0m\u001b[0m\n\u001b[0m\u001b[1;32m      4\u001b[0m \u001b[0;34m\u001b[0m\u001b[0m\n\u001b[1;32m      5\u001b[0m     \u001b[0;32mif\u001b[0m \u001b[0mvalue\u001b[0m \u001b[0;34m==\u001b[0m \u001b[0;34m'leftFist'\u001b[0m\u001b[0;34m:\u001b[0m\u001b[0;34m\u001b[0m\u001b[0m\n",
      "\u001b[0;31mNameError\u001b[0m: name 'random' is not defined"
     ]
    }
   ],
   "source": [
    "for num in range (10):\n",
    "    strikes_head = ['leftFist','rightFist']\n",
    "    value = random.choice(strikes_head)\n",
    "\n",
    "    if value == 'leftFist':\n",
    "        #for num in range(10):\n",
    "        leftHead_x = random.randint(0,10)*-1\n",
    "        leftHead_y = random.randint(0,10)\n",
    "        print(value,leftHead_x,leftHead_y)\n",
    "\n",
    "    elif value == 'rightFist':\n",
    "        rightHead_x = random.randint(0,10)\n",
    "        rightHead_y = random.randint(0,10)\n",
    "        print(value,rightHead_x,rightHead_y)\n",
    "    "
   ]
  },
  {
   "cell_type": "code",
   "execution_count": 7,
   "metadata": {},
   "outputs": [],
   "source": [
    "import random\n",
    "\n",
    "class Attacker():\n",
    "    \n",
    "    num_of_attacks = 0\n",
    "    \n",
    "    def __init__(self,style,position):\n",
    "        self.style = style\n",
    "        self.position = position\n",
    "        \n",
    "        Attacker.num_of_attacks += 1\n",
    "        \n",
    "    def __str__(self):\n",
    "        return \"Attacker: = %s, position: = %s\"%(self.style,self.position)\n",
    "        \n",
    "    def strike(self):\n",
    "        self.weapons = []\n",
    "        self.leftArmWeapons = ['Left Fist','Left Elbow','Left Palm']\n",
    "        self.rightArmWeapons = ['Right Fist','Right Elbow','Right Palm']\n",
    "        self.force = ['light','medium','hard']\n",
    "        self.weapons.extend(self.rightArmWeapons)\n",
    "        self.weapons.extend(self.leftArmWeapons)\n",
    "        self.value = random.choice(self.weapons)\n",
    "    \n",
    "        if self.value == 'Left Fist':\n",
    "            self.leftHead_x = random.randint(0,10)*-1\n",
    "            self.leftHead_y = random.randint(0,10)\n",
    "            print(self.value,self.leftHead_x,self.leftHead_y,random.choice(self.force))\n",
    "\n",
    "        elif self.value == 'Right Fist':\n",
    "            self.rightHead_x = random.randint(0,10)\n",
    "            self.rightHead_y = random.randint(0,10)\n",
    "            print(self.value,self.rightHead_x,self.rightHead_y,random.choice(self.force))\n",
    "        \n",
    "        elif self.value == 'Left Palm':\n",
    "            self.rightHead_x = random.randint(0,5)\n",
    "            self.rightHead_y = random.randint(0,5)\n",
    "            print(self.value,self.rightHead_x,self.rightHead_y,random.choice(self.force))"
   ]
  },
  {
   "cell_type": "code",
   "execution_count": 15,
   "metadata": {},
   "outputs": [],
   "source": [
    "boxer = Attacker('boxer','left forward')"
   ]
  },
  {
   "cell_type": "code",
   "execution_count": 32,
   "metadata": {},
   "outputs": [
    {
     "name": "stdout",
     "output_type": "stream",
     "text": [
      "Left Fist -1 10 light\n",
      "None\n"
     ]
    }
   ],
   "source": [
    "print(boxer.strike())"
   ]
  },
  {
   "cell_type": "code",
   "execution_count": 14,
   "metadata": {},
   "outputs": [
    {
     "name": "stdout",
     "output_type": "stream",
     "text": [
      "Left Palm 3 2 light\n",
      "None\n"
     ]
    }
   ],
   "source": [
    "print(Attacker.strike(boxer))"
   ]
  },
  {
   "cell_type": "code",
   "execution_count": null,
   "metadata": {},
   "outputs": [],
   "source": [
    "streetFighter = Attacker('Street Fighter','Confronting')"
   ]
  },
  {
   "cell_type": "code",
   "execution_count": 13,
   "metadata": {},
   "outputs": [
    {
     "name": "stdout",
     "output_type": "stream",
     "text": [
      "Left Fist -1 0 light\n",
      "None\n"
     ]
    }
   ],
   "source": [
    "print(boxer.strike())"
   ]
  },
  {
   "cell_type": "code",
   "execution_count": 137,
   "metadata": {},
   "outputs": [],
   "source": [
    "boxer = Attacker('boxer','left forward')"
   ]
  },
  {
   "cell_type": "code",
   "execution_count": 138,
   "metadata": {},
   "outputs": [
    {
     "name": "stdout",
     "output_type": "stream",
     "text": [
      "Left Fist 0 7 hard\n",
      "None\n"
     ]
    }
   ],
   "source": [
    "print(streetFighter.strike())"
   ]
  },
  {
   "cell_type": "code",
   "execution_count": 139,
   "metadata": {},
   "outputs": [
    {
     "name": "stdout",
     "output_type": "stream",
     "text": [
      "<class '__main__.Attacker'>\n"
     ]
    }
   ],
   "source": [
    "print(Attacker)"
   ]
  },
  {
   "cell_type": "code",
   "execution_count": 140,
   "metadata": {},
   "outputs": [
    {
     "name": "stdout",
     "output_type": "stream",
     "text": [
      "{'style': 'boxer', 'position': 'left forward'}\n"
     ]
    }
   ],
   "source": [
    "print(boxer.__dict__)"
   ]
  },
  {
   "cell_type": "code",
   "execution_count": 141,
   "metadata": {},
   "outputs": [
    {
     "name": "stdout",
     "output_type": "stream",
     "text": [
      "3\n"
     ]
    }
   ],
   "source": [
    "print(Attacker.num_of_attacks)"
   ]
  },
  {
   "cell_type": "code",
   "execution_count": null,
   "metadata": {},
   "outputs": [],
   "source": []
  }
 ],
 "metadata": {
  "kernelspec": {
   "display_name": "Python 3",
   "language": "python",
   "name": "python3"
  }
 },
 "nbformat": 4,
 "nbformat_minor": 2
}
